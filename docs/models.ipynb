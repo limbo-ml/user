{
 "cells": [
  {
   "cell_type": "raw",
   "id": "5dc5e30f",
   "metadata": {
    "raw_mimetype": "text/restructuredtext"
   },
   "source": [
    ".. _models:\n",
    "\n",
    "3D Models\n",
    "========="
   ]
  },
  {
   "cell_type": "markdown",
   "id": "7b8919c7-8fae-4eaf-8050-235c1924a835",
   "metadata": {
    "editable": true,
    "slideshow": {
     "slide_type": ""
    },
    "tags": []
   },
   "source": [
    "**Description**\n",
    "\n",
    "3D uranium hexafluoride container models and textures.\n",
    "\n",
    "As a reference and to allow Limbo users to generate their own custom images, we include static copies of the 3D uranium hexafluoride models used to generate the Limbo data.  We include models of 30B, 48G, 48X, and 48Y containers, stored as Wavefront .OBJ files.  For each container type, we include three versions: without blocking, atop wood blocking, and atop concrete blocking:"
   ]
  },
  {
   "cell_type": "raw",
   "id": "ba0084ef",
   "metadata": {
    "editable": true,
    "raw_mimetype": "text/restructuredtext",
    "slideshow": {
     "slide_type": ""
    },
    "tags": []
   },
   "source": [
    ".. image:: models/no-blocking.png\n",
    "   :height: 125px\n",
    "   :align: left\n",
    "   \n",
    ".. image:: models/wood-blocking.png\n",
    "   :height: 125px\n",
    "   :align: left\n",
    "   \n",
    ".. image:: models/concrete-blocking.png\n",
    "   :height: 125px"
   ]
  },
  {
   "cell_type": "markdown",
   "id": "687ef156-2a76-4bbe-a28c-479406202115",
   "metadata": {
    "editable": true,
    "raw_mimetype": "text/restructuredtext",
    "slideshow": {
     "slide_type": ""
    },
    "tags": []
   },
   "source": [
    "All models have texture coordinates assigned, and there are one-or-more sets of textures (paint jobs) for each cylinder type, plus separate textures for the wood and concrete blocking:  "
   ]
  },
  {
   "cell_type": "raw",
   "id": "4e60a34a-defc-47b8-be86-ed54d805cd52",
   "metadata": {
    "editable": true,
    "raw_mimetype": "text/restructuredtext",
    "slideshow": {
     "slide_type": ""
    },
    "tags": []
   },
   "source": [
    ".. image:: models/aluminum.png\n",
    "   :height: 125px\n",
    "   :align: left\n",
    "   \n",
    ".. image:: models/gray.png\n",
    "   :height: 125px\n",
    "   :align: left\n",
    "   \n",
    ".. image:: models/lightblue.png\n",
    "   :height: 125px"
   ]
  },
  {
   "cell_type": "markdown",
   "id": "19d483e4-ee34-4870-aa06-02afe06fb9d6",
   "metadata": {
    "editable": true,
    "slideshow": {
     "slide_type": ""
    },
    "tags": []
   },
   "source": [
    "Each texture set contains PBR textures for base color, metallic, roughness, normal map, and displacement.  Note that some texture sets contain multiple images per category, using UDIM naming conventions.  All textures are stored as [OpenEXR](https://openexr.com) images.\n",
    "\n",
    "**Additional Models**\n",
    "\n",
    "The refinery background scene, distractor objects, and people present in the Limbo images were based on 3D models purchased through the [TurboSquid](https://turbosquid.com) marketplace, and cannot be redistributed. For reference, the models purchased included:\n",
    "\n",
    "* https://www.turbosquid.com/3d-models/3d-30-people:-working-people-model/949856\n",
    "* https://www.turbosquid.com/3d-models/3ds-max-human-body/979954\n",
    "* https://www.turbosquid.com/3d-models/refinery-realistic-model-1181625\n",
    "* https://www.turbosquid.com/3d-models/barrels-wood-module-wine-3ds/787711\n",
    "* https://www.turbosquid.com/3d-models/55-gallon-drum-3d-model-1681165\n",
    "* https://www.turbosquid.com/3d-models/beer-kegs-set-3d-model-1622300\n",
    "* https://www.turbosquid.com/3d-models/3d-military-crates-model-1425836\n",
    "* https://www.turbosquid.com/3d-models/water-tank-3d-1495992\n",
    "* https://www.turbosquid.com/3d-models/artist-studio-set-190-3d-1651400\n",
    "* https://www.turbosquid.com/3d-models/large-propane-tank-3d-model/902798\n",
    "* https://www.turbosquid.com/3d-models/3d-gas-cylinders-1259906\n",
    "* https://www.turbosquid.com/3d-models/3d-construction-materials-model-1576969\n",
    "* https://www.turbosquid.com/3d-models/large-industrial-storages-model-1761657\n",
    "\n",
    "**Background Images**\n",
    "\n",
    "The HDRI backgrounds used in the Limbo images were culled from a variety of online sources, such as [HDRI Haven](https://hdri-haven.com)."
   ]
  }
 ],
 "metadata": {
  "celltoolbar": "Raw Cell Format",
  "kernelspec": {
   "display_name": "Python 3 (ipykernel)",
   "language": "python",
   "name": "python3"
  },
  "language_info": {
   "codemirror_mode": {
    "name": "ipython",
    "version": 3
   },
   "file_extension": ".py",
   "mimetype": "text/x-python",
   "name": "python",
   "nbconvert_exporter": "python",
   "pygments_lexer": "ipython3",
   "version": "3.12.2"
  }
 },
 "nbformat": 4,
 "nbformat_minor": 5
}
