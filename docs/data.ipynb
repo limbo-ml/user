{
 "cells": [
  {
   "cell_type": "raw",
   "id": "132808ae",
   "metadata": {
    "raw_mimetype": "text/restructuredtext"
   },
   "source": [
    ".. _data:\n",
    "\n",
    "Limbo Data\n",
    "=========="
   ]
  },
  {
   "cell_type": "markdown",
   "id": "71c7a3c5",
   "metadata": {},
   "source": [
    "The Limbo Data is a growing collection (200000 images and counting) of synthetic computer vision training data created for our research.  The subject matter of the dataset is uranium hexaflouride containers that are part of the nuclear fuel cycle.  Can you guess which of the following images is real?\n",
    "\n",
    "<img src=\"data/image_0000000.png\">\n",
    "<img src=\"data/image_0000025.png\">\n",
    "<img src=\"data/image_0001785.png\">\n",
    "\n",
    "Answer: none!  Every one of these images was generated synthetically using 3D DCC software.  And because these images are generated, they include pixel-perfect matte, contour, and bounding box annotations:"
   ]
  },
  {
   "cell_type": "code",
   "execution_count": 7,
   "id": "568798f1",
   "metadata": {},
   "outputs": [
    {
     "data": {
      "image/png": "[encoded data removed]",
      "text/plain": [
       "<PIL.Image.Image image mode=L size=720x720 at 0x7F8FFBC915E0>"
      ]
     },
     "execution_count": 7,
     "metadata": {},
     "output_type": "execute_result"
    }
   ],
   "source": [
    "import imagecat.data\n",
    "import limbo.data\n",
    "\n",
    "dataset = limbo.data.Dataset(\"data\")\n",
    "\n",
    "sample = dataset[1]\n",
    "imagecat.data.to_pil(sample.synthetic.cryptomatte.matte().layers[\"M\"])"
   ]
  },
  {
   "cell_type": "raw",
   "id": "2e530b59",
   "metadata": {
    "raw_mimetype": "text/restructuredtext"
   },
   "source": [
    "Campaigns\n",
    "---------\n",
    "\n",
    "The data has been divided into the following *campaigns* ... see the documentation for each campaign for details on its contents:\n",
    "\n",
    ".. toctree::\n",
    "  :maxdepth: 2\n",
    "  \n",
    "  campaign2\n",
    "  campaign3\n",
    "  campaign4\n",
    "  campaign5"
   ]
  }
 ],
 "metadata": {
  "celltoolbar": "Raw Cell Format",
  "kernelspec": {
   "display_name": "Python 3 (ipykernel)",
   "language": "python",
   "name": "python3"
  },
  "language_info": {
   "codemirror_mode": {
    "name": "ipython",
    "version": 3
   },
   "file_extension": ".py",
   "mimetype": "text/x-python",
   "name": "python",
   "nbconvert_exporter": "python",
   "pygments_lexer": "ipython3",
   "version": "3.8.10"
  }
 },
 "nbformat": 4,
 "nbformat_minor": 5
}
