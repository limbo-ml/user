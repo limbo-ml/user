{
 "cells": [
  {
   "cell_type": "raw",
   "id": "132808ae",
   "metadata": {
    "raw_mimetype": "text/restructuredtext"
   },
   "source": [
    ".. _data:\n",
    "\n",
    "Limbo Data\n",
    "==========\n",
    "\n",
    "Limbo Data is a growing collection (400000 images and counting) of synthetic computer vision training data that we created for our research.  The subject matter of the dataset is uranium hexaflouride containers that are part of the nuclear fuel cycle.  Can you guess which of the following images is real?\n",
    "\n",
    ".. image:: data/image_0000000.png\n",
    "   :height: 200px\n",
    "   :align: left\n",
    "\n",
    ".. image:: data/image_0000025.png\n",
    "   :height: 200px\n",
    "   :align: left\n",
    "\n",
    ".. image:: data/image_0001785.png\n",
    "   :height: 200px\n",
    "   :align: left\n",
    "\n",
    "Answer: none!  Every one of these images was created using 3D DCC software.  And because these images are generated synthetically, they can also include pixel-perfect matte, contour, and bounding box annotations, which can be accessed using the :ref:`software`."
   ]
  },
  {
   "cell_type": "raw",
   "id": "2e530b59",
   "metadata": {
    "raw_mimetype": "text/restructuredtext"
   },
   "source": [
    "Campaigns\n",
    "---------\n",
    "\n",
    "The data has been divided into the following *campaigns* ... see the documentation on each campaign for details on its contents:\n",
    "\n",
    ".. toctree::\n",
    "  :maxdepth: 2\n",
    "  \n",
    "  campaign2\n",
    "  campaign3\n",
    "  campaign4\n",
    "  campaign5\n",
    "  campaign6\n",
    "  campaign7\n",
    "  campaign8\n",
    "  campaign9\n",
    "  ref"
   ]
  },
  {
   "cell_type": "markdown",
   "id": "9edf900c",
   "metadata": {},
   "source": [
    "## Downloads\n",
    "\n",
    "To obtain the Limbo Data, you'll need to do the following:\n",
    "\n",
    "* Visit https://bdc.lbl.gov and register a new account.\n",
    "* At the bottom of the BDC New User Registration form, be sure to select the **snl-limbo** organization.\n",
    "* Once your account is registered, visit https://bdc.lbl.gov and login.\n",
    "* At the top of the window, choose **Data Workspace**.\n",
    "* Click the **Workspace** button with the gear icon.\n",
    "* Under **Projects** enable the **SNL-Limbo** filter.\n",
    "* Under **Data Collections** choose the **snl-limbo** collection.\n",
    "* At the bottom of the Workspace Configuration window, choose **Save** followed by **Close**.\n",
    "* Click the **Query Generator** button.\n",
    "* Under **Data Collections**, enable the **snl-limbo** collection.\n",
    "* Click the **Load Data Collections** button.\n",
    "* Select the **Individual non-HDF5 files** tab.\n",
    "* In the **Files** dropdown, click the **+** icons until all of the tar.gz files are visible.\n",
    "* Select the files you wish to download.\n",
    "* Each of the \"teaser\" files contains a subset (~5GB) of a full campaign (typically around 250-350GB).\n",
    "* Click the **Submit Query** button at the bottom of the window.\n",
    "* A popup window should open, to indicate that the query was submitted successfully.\n",
    "* Close the popup window.\n",
    "* Click the **Download Manager** at the top of the window.\n",
    "* Your download query will appear as a row in a table.\n",
    "* The **Download** column for your query will likely read \"Unavailable\" until your download is ready.\n",
    "* It may take a significant amount of time before your download is ready.  Refresh your browser periodically to see whether the download is ready.\n",
    "* Once the download is ready, use the **Download** link.  Be careful not to click **Copy to Jupyterhub**.\n",
    "* The files you selected will be delivered as a single ZIP file.  Unzip the downloaded file, then untar the data files."
   ]
  },
  {
   "cell_type": "raw",
   "id": "14ef733c",
   "metadata": {
    "raw_mimetype": "text/restructuredtext"
   },
   "source": [
    "Usage\n",
    "-----\n",
    "\n",
    "You're ready to use the data!  If you already use Python for your experiments, you'll likely want to use the :ref:`software` to integrate the data into your workflow; if not, you can read the :ref:`specification` to understand how the data is stored.\n",
    "\n",
    "Out of the box, our .tar.gz files contain a PNG image for each sample plus a JSON metadata file containing contour, bounding box, and tag annotations ready to use for training object segmentation, object detection, and classification models.  If you need high dynamic range, depth, matte (bitmap mask), or other information, you'll need to extract them using the :ref:`software`."
   ]
  }
 ],
 "metadata": {
  "celltoolbar": "Raw Cell Format",
  "kernelspec": {
   "display_name": "Python 3 (ipykernel)",
   "language": "python",
   "name": "python3"
  },
  "language_info": {
   "codemirror_mode": {
    "name": "ipython",
    "version": 3
   },
   "file_extension": ".py",
   "mimetype": "text/x-python",
   "name": "python",
   "nbconvert_exporter": "python",
   "pygments_lexer": "ipython3",
   "version": "3.8.10"
  }
 },
 "nbformat": 4,
 "nbformat_minor": 5
}
