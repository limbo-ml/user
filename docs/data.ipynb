{
 "cells": [
  {
   "cell_type": "raw",
   "id": "132808ae",
   "metadata": {
    "raw_mimetype": "text/restructuredtext"
   },
   "source": [
    ".. _data:\n",
    "\n",
    "Limbo Data\n",
    "==========\n",
    "\n",
    "Limbo Data is a growing collection (~1000000 images and counting) of synthetic computer vision training data created for our research.  The subject matter of the dataset is uranium hexaflouride containers that are part of the nuclear fuel cycle (click to enlarge).  Can you guess which of the following images is real?\n",
    "\n",
    ".. image:: data/image_0000000.png\n",
    "   :height: 200px\n",
    "   :align: left\n",
    "\n",
    ".. image:: data/image_0000025.png\n",
    "   :height: 200px\n",
    "   :align: left\n",
    "\n",
    ".. image:: data/image_0001785.png\n",
    "   :height: 200px\n",
    "   :align: left\n",
    "\n",
    "Answer: none!  Every one of these images was created using computer generated images (CGI).  And because these images are generated synthetically, they also include pixel-perfect matte, contour, and bounding box annotations, which can be accessed using the :ref:`software`."
   ]
  },
  {
   "cell_type": "raw",
   "id": "2e530b59",
   "metadata": {
    "raw_mimetype": "text/restructuredtext"
   },
   "source": [
    ".. _campaigns:\n",
    "\n",
    "Campaigns\n",
    "---------\n",
    "\n",
    "The data has been divided into the following *campaigns* ... see the documentation on each campaign for details on its contents:\n",
    "\n",
    ".. toctree::\n",
    "  :maxdepth: 2\n",
    "  \n",
    "  campaign2\n",
    "  campaign3\n",
    "  campaign4\n",
    "  campaign5\n",
    "  campaign6\n",
    "  campaign7\n",
    "  campaign8\n",
    "  campaign9\n",
    "  campaign10\n",
    "  campaign11\n",
    "  campaign12\n",
    "  campaign13\n",
    "  campaign14\n",
    "  campaign15\n",
    "  campaign16\n",
    "  campaign17\n",
    "  campaign18\n",
    "  campaign19\n",
    "  campaign20\n",
    "  ref\n",
    "  ref-2"
   ]
  },
  {
   "cell_type": "raw",
   "id": "39107ac3",
   "metadata": {
    "raw_mimetype": "text/restructuredtext"
   },
   "source": [
    ".. _downloads:\n",
    "\n",
    "Downloads\n",
    "---------\n",
    "\n",
    ".. tip::\n",
    "\n",
    "    In our testing, downloads using the Safari browser often failed due to \"too many HTTP redirects\".\n",
    "    Consider using a different browser instead.\n",
    "\n",
    "To obtain the Limbo Data, you'll need to do the following:\n",
    "\n",
    "* Visit https://bdc.lbl.gov and register a new account.\n",
    "* At the bottom of the BDC New User Registration form, be sure to select the **snl-limbo** organization.\n",
    "* Once your account is registered, visit https://bdc.lbl.gov and login.\n",
    "* At the top of the window, choose **Data Workspace**.\n",
    "* Click the **Workspace** button with the gear icon.\n",
    "* Under **Projects** enable the **SNL-Limbo** filter.\n",
    "* Under **Data Collections** choose the **snl-limbo** collection.\n",
    "* At the bottom of the Workspace Configuration window, choose **Save** followed by **Close**.\n",
    "* Click the **Query Generator** button.\n",
    "* Under **Data Collections**, enable the **snl-limbo** collection.\n",
    "* Click the **Load Data Collections** button.\n",
    "* Select the **Individual non-HDF5 files** tab.\n",
    "* In the **Files** dropdown, click the **+** icons until all of the files are visible.\n",
    "* Select the files you wish to download.\n",
    "    * Each campaign has been split into tar.gz files named *campaignXX-YYYY.tar.gz* that are roughly 5-8GB each.\n",
    "    * We encourage you to explore the breadth of the data by downloading one tar.gz file from each campaign, before downloading entire campaigns.\n",
    "    * Download times can be very long and institutional firewalls can be finicky, so we encourage you to start by downloading a single file before ramping-up to more, downloading only as many files as you can reasonably use for training.\n",
    "* Click the **Submit Query** button at the bottom of the window.\n",
    "* A popup window should open, to indicate that the query was submitted successfully.\n",
    "* Close the popup window.\n",
    "* Click the **Download Manager** at the top of the window.\n",
    "* Your download query will appear as a row in a table.\n",
    "* The **Download** column for your query will likely read \"Unavailable\" until your download is ready.\n",
    "* It may take a significant amount of time before your download is ready.  Refresh your browser periodically to see whether the download is ready.\n",
    "* Once the download is ready, use the **Download** link.  Be careful not to click **Copy to Jupyterhub**.\n",
    "* The files you selected will be delivered as a single ZIP file.  Unzip the downloaded file, then untar the data files."
   ]
  },
  {
   "cell_type": "raw",
   "id": "14ef733c",
   "metadata": {
    "raw_mimetype": "text/restructuredtext"
   },
   "source": [
    "Usage\n",
    "-----\n",
    "\n",
    "You're ready to use the data!  If you already use Python for your experiments, you'll likely want to use the :ref:`software` to integrate the data into your workflow; if not, you can read the :ref:`specification` to understand how the data is stored.\n",
    "\n",
    "Out of the box, our .tar.gz files contain a PNG image for each sample plus a JSON metadata file containing contour, bounding box, and tag annotations ready to use for training object segmentation, object detection, and classification models.  If you need high dynamic range, depth, matte (bitmap mask), or other information, you'll need to extract them using the :ref:`software`."
   ]
  },
  {
   "cell_type": "markdown",
   "id": "e2212a73",
   "metadata": {},
   "source": [
    "## Terms of Use\n",
    "\n",
    "The imagery and associated metadata within the Limbo repository was prepared as an account of work sponsored by an agency of the United States Government. Neither the United States Government, nor any agency thereof, nor any of their employees, nor any of their contractors, subcontractors, or their employees, makes any warranty, express or implied, or assumes any legal liability or responsibility for the accuracy, completeness, or usefulness of any information, data, apparatus, product, or process disclosed, or represent that its use would not infringe privately owned rights. Any reference herein to any specific commercial product, process, or service by trade name, trademark, manufacturer, or otherwise, does not constitute or imply its endorsement, recommendation, or favoring by the United States Government, any agency thereof, or any of their contractors or subcontractors. Any views and opinions expressed herein do not state or reflect those of the United States Government, any agency thereof, or any of their contractors. Neither the names of the copyright holders nor the United States Government may be used to endorse or promote products derived from the imagery and associated metadata without specific prior written permission.\n",
    "\n",
    "1.\tTHE IMAGERY AND ASSOCIATED METADATA WITHIN THE LIMBO REPOSITORY IS PROVIDED BY THE COPYRIGHT HOLDERS AND CONTRIBUTORS \"AS IS\" AND ANY EXPRESS OR IMPLIED WARRANTIES, INCLUDING, BUT NOT LIMITED TO, THE IMPLIED WARRANTIES OF MERCHANTABILITY AND FITNESS FOR A PARTICULAR PURPOSE ARE DISCLAIMED. IN NO EVENT SHALL THE COPYRIGHT HOLDER OR CONTRIBUTORS OR THE U.S. GOVERNMENT BE LIABLE FOR ANY DIRECT, INDIRECT, INCIDENTAL, SPECIAL, EXEMPLARY, OR CONSEQUENTIAL DAMAGES (INCLUDING, BUT NOT LIMITED TO, PROCUREMENT OF SUBSTITUTE GOODS OR SERVICES; LOSS OF USE, DATA, OR PROFITS; OR BUSINESS INTERRUPTION) HOWEVER CAUSED AND ON ANY THEORY OF LIABILITY, WHETHER IN CONTRACT, STRICT LIABILITY, OR TORT (INCLUDING NEGLIGENCE OR OTHERWISE) ARISING IN ANY WAY OUT OF THE USE OF THE IMAGERY AND ASSOCIATED METADATA WITHIN THE LIMBO REPOSITORY, EVEN IF ADVISED OF THE POSSIBILITY OF SUCH DAMAGE. \n",
    "2.\tResearcher shall use the Limbo repository only for non-commercial research and educational purposes. Commercial use of the Limbo repository and/or any of its contents is strictly prohibited.\n",
    "3.\tResearcher accepts full responsibility for his or her use of the Limbo repository and shall defend and indemnify the Limbo team, National Technology & Engineering Solutions of Sandia, LLC (NTESS), Lawrence Berkeley National Laboratory, the U.S. Department of Energy, and the U.S. Government, including their employees, Trustees, officers and agents, against any and all claims arising from Researcher's use of the Database.\n",
    "4.\tNTESS and Lawrence Berkeley National Laboratory reserve the right to terminate Researcher's access to the Limbo repository at any time.\n",
    "\n",
    "The images herein have been released as unclassified, unlimited release with the following release numbers:\n",
    "\n",
    "* Campaigns 2-5: SAND2021-9615 O\n",
    "* Campaigns 6-9: SAND2022-0008 O\n",
    "* Campaigns 10-12: SAND2022-6864 O\n",
    "* Campaigns 13-15: SAND2022-9272 O\n",
    "* Campaigns 16-20: SAND2022-13738 O\n",
    "* Reference images: SAND2022-0160 O\n",
    "* Reference-2 images: SAND2022-10310 O\n",
    "* Adversarial examples: SAND2022-10311 O\n",
    "\n",
    "### Reference Images\n",
    "\n",
    "The term “reference images” refers to a collection of real-world images collected from open sources. The licensing of each individual image is documented to the best of our ability. While the use of these images may fall under “fair use” for research and development projects, the publication of some may be limited depending on their license. It is the responsibility of each user of these images to cite and publish these images in accordance with their license requirements.\n",
    "\n",
    "### Synthetic Images\n",
    "\n",
    "All synthetic images within Limbo belong to NTESS, and are released to the public as unclassified, unlimited release (UUR) information. When using these images, please cite:\n",
    "\n",
    "Copyright 2022 National Technology & Engineering Solutions of Sandia, LLC. The U.S. Government has certain rights to the synthetic images.\n",
    "\n",
    "Gastelum, Z.N., Shead, T.M., and Rushdi, A., “A Large Safeguards-Informed Hybrid Imagery Dataset for Computer Vision Research & Development.” Proceedings of the Institute of Nuclear Materials Management and European Safeguards Research and Development Association Joint Annual Meeting, September 2021.  Available at: https://esarda.jrc.ec.europa.eu/esarda-43rd-joint-annual-meeting_en \n",
    "\n",
    "We further recommend that use of individual images include its associated SAND number, provided by Campaign number above.\n",
    "\n",
    "### Annotations & Metadata\n",
    "\n",
    "The annotations and other metadata provided with the real and synthetic images within Limbo are provided for research purposes only and are provided as-is. The metadata belong to NTESS, and are released to the public as unclassified, unlimited release (UUR) via the same SAND release number as the corresponding images. \n",
    "\n",
    "Notice: This work was produced by National Technology & Engineering Solutions of Sandia, LLC under contract No. DE-NA0003525 with the U.S. Department of Energy. The United States Government retains a non-exclusive, paid-up, irrevocable, world-wide license to publish or reproduce this work, or allow others to do so, for United States Government purposes. The Department of Energy provides public access to federally sponsored research in accordance with the DOE Public Access Plan https://www.energy.gov/downloads/doe-public-access-plan."
   ]
  }
 ],
 "metadata": {
  "celltoolbar": "Raw Cell Format",
  "kernelspec": {
   "display_name": "Python 3 (ipykernel)",
   "language": "python",
   "name": "python3"
  },
  "language_info": {
   "codemirror_mode": {
    "name": "ipython",
    "version": 3
   },
   "file_extension": ".py",
   "mimetype": "text/x-python",
   "name": "python",
   "nbconvert_exporter": "python",
   "pygments_lexer": "ipython3",
   "version": "3.10.8"
  }
 },
 "nbformat": 4,
 "nbformat_minor": 5
}
