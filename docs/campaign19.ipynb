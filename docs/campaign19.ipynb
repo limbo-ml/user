{
 "cells": [
  {
   "cell_type": "raw",
   "id": "5dc5e30f",
   "metadata": {
    "raw_mimetype": "text/restructuredtext"
   },
   "source": [
    ".. _campaign19:\n",
    "\n",
    "Campaign 19\n",
    "==========="
   ]
  },
  {
   "cell_type": "markdown",
   "id": "6ccd3de9",
   "metadata": {},
   "source": [
    "**Description**\n",
    "\n",
    "This campaign features type 48 cylinders, distractors, and people, randomly scattered in a completely synthetic industrial environment.  Unlike campaigns 2-15, the backgrounds in these images are not photographs; this means that this data contains no perspective or scale artifacts."
   ]
  },
  {
   "cell_type": "raw",
   "id": "a158725a",
   "metadata": {
    "raw_mimetype": "text/restructuredtext"
   },
   "source": [
    ".. image:: campaign19/8885.png\n",
    "   :height: 200px\n",
    "   :align: left\n",
    "\n",
    ".. image:: campaign19/39510.png\n",
    "   :height: 200px\n",
    "   :align: left\n",
    "   \n",
    ".. image:: campaign19/47171.png\n",
    "   :height: 200px\n",
    "   :align: left"
   ]
  },
  {
   "cell_type": "markdown",
   "id": "62e48d9e",
   "metadata": {},
   "source": [
    "**Statistics**\n",
    "\n",
    "Total samples: 49984.\n",
    "\n",
    "- Samples with provenance: 0\n",
    "- Samples with images: 49984\n",
    "- Samples with synthetic data: 49984\n",
    "- Samples with cryptomatte data: 49984\n",
    "- Samples with bounding-boxes: 46831\n",
    "- Samples with empty bounding-boxes: 0\n",
    "- Samples with contours: 46831\n",
    "- Samples with tags: 49984\n",
    "\n",
    "Categories:\n",
    "\n",
    "- Category *48G* samples: 22132\n",
    "- Category *48X* samples: 15237\n",
    "- Category *48Y* samples: 15190\n",
    "- Category *bag/cement* samples: 3712\n",
    "- Category *bag/salt* samples: 4889\n",
    "- Category *bag/sand* samples: 12412\n",
    "- Category *banding* samples: 20400\n",
    "- Category *barrel/55G* samples: 28395\n",
    "- Category *barrel/wine* samples: 18042\n",
    "- Category *barrel/wine/blocking* samples: 15850\n",
    "- Category *block/cinder* samples: 4213\n",
    "- Category *block/generic* samples: 6378\n",
    "- Category *blocking/concrete* samples: 18456\n",
    "- Category *blocking/wood* samples: 18184\n",
    "- Category *box/cardboard* samples: 3245\n",
    "- Category *brick* samples: 3037\n",
    "- Category *crate/mil/large* samples: 2407\n",
    "- Category *crate/mil/long* samples: 3059\n",
    "- Category *crate/mil/medium* samples: 2546\n",
    "- Category *crate/mil/small* samples: 3517\n",
    "- Category *drywall* samples: 2448\n",
    "- Category *keg/30L* samples: 2895\n",
    "- Category *keg/50L* samples: 2996\n",
    "- Category *lumber/pine* samples: 2272\n",
    "- Category *mdf* samples: 1419\n",
    "- Category *paintbrush* samples: 14074\n",
    "- Category *paintcan/1G* samples: 19263\n",
    "- Category *pallet* samples: 33137\n",
    "- Category *person* samples: 38349\n",
    "- Category *steel/roll* samples: 3463\n",
    "- Category *synthetic* samples: 49984\n",
    "- Category *tank/gas/10kg* samples: 8598\n",
    "- Category *tank/gas/160L* samples: 5896\n",
    "- Category *tank/gas/20kg* samples: 9827\n",
    "- Category *tank/gas/30kg* samples: 6080\n",
    "- Category *tank/gas/6kg* samples: 11434\n",
    "- Category *tank/gas/8kg* samples: 6239\n",
    "- Category *tank/propane/500G* samples: 3025\n",
    "- Category *tank/water/IBC/275G* samples: 2509\n",
    "- Category *tank/water/plastic/1500L* samples: 2193\n",
    "- Category *tank/water/plastic/16G* samples: 3054\n"
   ]
  }
 ],
 "metadata": {
  "celltoolbar": "Raw Cell Format",
  "kernelspec": {
   "display_name": "Python 3 (ipykernel)",
   "language": "python",
   "name": "python3"
  },
  "language_info": {
   "codemirror_mode": {
    "name": "ipython",
    "version": 3
   },
   "file_extension": ".py",
   "mimetype": "text/x-python",
   "name": "python",
   "nbconvert_exporter": "python",
   "pygments_lexer": "ipython3",
   "version": "3.8.10"
  }
 },
 "nbformat": 4,
 "nbformat_minor": 5
}
