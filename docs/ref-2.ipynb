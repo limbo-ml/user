{
 "cells": [
  {
   "cell_type": "raw",
   "id": "5dc5e30f",
   "metadata": {
    "raw_mimetype": "text/restructuredtext"
   },
   "source": [
    ".. _ref-2:\n",
    "\n",
    "Reference-2 Images\n",
    "=================="
   ]
  },
  {
   "cell_type": "markdown",
   "id": "c40d1652",
   "metadata": {},
   "source": [
    "**Description**\n",
    "\n",
    "Additional real-world images and distractors for testing."
   ]
  },
  {
   "cell_type": "raw",
   "id": "ba0084ef",
   "metadata": {
    "raw_mimetype": "text/restructuredtext"
   },
   "source": [
    ".. image:: ref-2/0.jpeg\n",
    "   :height: 125px\n",
    "   :align: left\n",
    "   \n",
    ".. image:: ref-2/44.jpeg\n",
    "   :height: 125px\n",
    "   :align: left\n",
    "   \n",
    ".. image:: ref-2/82.jpeg\n",
    "   :height: 125px\n",
    "   :align: left"
   ]
  },
  {
   "cell_type": "markdown",
   "id": "ae7b3990",
   "metadata": {},
   "source": [
    "**Statistics**\n",
    "\n",
    "Total samples: 88.\n",
    "\n",
    "- Samples with provenance: 88\n",
    "- Samples with images: 88\n",
    "- Samples with synthetic data: 0\n",
    "- Samples with cryptomatte data: 0\n",
    "- Samples with bounding-boxes: 86\n",
    "- Samples with empty bounding-boxes: 0\n",
    "- Samples with contours: 0\n",
    "- Samples with tags: 88\n",
    "\n",
    "Categories:\n",
    "\n",
    "- Category *30B* samples: 36\n",
    "- Category *48X* samples: 2\n",
    "- Category *48Y* samples: 50\n",
    "- Category *real* samples: 88\n",
    "\n",
    "Annotations:\n",
    "\n",
    "- Samples annotated *real*: 2\n",
    "- Samples annotated *48Y* + *real*: 48\n",
    "- Samples annotated *48X* + *48Y* + *real*: 2\n",
    "- Samples annotated *30B* + *real*: 36\n",
    "\n",
    "**Category Definitions**\n",
    "\n",
    "- real: samples that are photographs taken from the real world.\n",
    "- 30B: type 30B cylinders.\n",
    "- 48X: type 48X cylinders.\n",
    "- 48Y: type 48Y cylinders."
   ]
  }
 ],
 "metadata": {
  "celltoolbar": "Raw Cell Format",
  "kernelspec": {
   "display_name": "Python 3 (ipykernel)",
   "language": "python",
   "name": "python3"
  },
  "language_info": {
   "codemirror_mode": {
    "name": "ipython",
    "version": 3
   },
   "file_extension": ".py",
   "mimetype": "text/x-python",
   "name": "python",
   "nbconvert_exporter": "python",
   "pygments_lexer": "ipython3",
   "version": "3.10.8"
  }
 },
 "nbformat": 4,
 "nbformat_minor": 5
}
