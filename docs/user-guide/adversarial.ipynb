{
 "cells": [
  {
   "cell_type": "raw",
   "metadata": {
    "raw_mimetype": "text/restructuredtext"
   },
   "source": [
    ".. _adversarial:\n",
    "\n",
    "Adversarial Images\n",
    "==================\n",
    "\n",
    "We are pleased to provide a third-party example of generating adversarial images based on the Limbo data using the 2017 algorithm of Carlini & Wagner.  Following the instructions on the :ref:`downloads` page, download the example tarball `adversarial.tar.gz`, which includes training and test data, a trained classification model, and a collection of adversarial images that are mis-classified by the model."
   ]
  }
 ],
 "metadata": {
  "celltoolbar": "Raw Cell Format",
  "kernelspec": {
   "display_name": "Python 3 (ipykernel)",
   "language": "python",
   "name": "python3"
  },
  "language_info": {
   "codemirror_mode": {
    "name": "ipython",
    "version": 3
   },
   "file_extension": ".py",
   "mimetype": "text/x-python",
   "name": "python",
   "nbconvert_exporter": "python",
   "pygments_lexer": "ipython3",
   "version": "3.10.8"
  }
 },
 "nbformat": 4,
 "nbformat_minor": 4
}
