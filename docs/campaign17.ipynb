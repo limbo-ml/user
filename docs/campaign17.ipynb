{
 "cells": [
  {
   "cell_type": "raw",
   "id": "5dc5e30f",
   "metadata": {
    "raw_mimetype": "text/restructuredtext"
   },
   "source": [
    ".. _campaign17:\n",
    "\n",
    "Campaign 17\n",
    "==========="
   ]
  },
  {
   "cell_type": "markdown",
   "id": "df9f08a2",
   "metadata": {},
   "source": [
    "**Description**\n",
    "\n",
    "This campaign features type 48 cylinders and distractors, randomly scattered in a completely synthetic industrial environment.  Unlike campaigns 2-15, the backgrounds in these images are not photographs; this means that this data contains no perspective or scale artifacts."
   ]
  },
  {
   "cell_type": "raw",
   "id": "a158725a",
   "metadata": {
    "raw_mimetype": "text/restructuredtext"
   },
   "source": [
    ".. image:: campaign17/0.png\n",
    "   :height: 200px\n",
    "   :align: left\n",
    "\n",
    ".. image:: campaign17/8601.png\n",
    "   :height: 200px\n",
    "   :align: left\n",
    "   \n",
    ".. image:: campaign17/30231.png\n",
    "   :height: 200px\n",
    "   :align: left"
   ]
  },
  {
   "cell_type": "markdown",
   "id": "62e48d9e",
   "metadata": {},
   "source": [
    "**Statistics**\n",
    "\n",
    "Total samples: 50000.\n",
    "\n",
    "- Samples with provenance: 0\n",
    "- Samples with images: 50000\n",
    "- Samples with synthetic data: 50000\n",
    "- Samples with cryptomatte data: 50000\n",
    "- Samples with bounding-boxes: 47589\n",
    "- Samples with empty bounding-boxes: 0\n",
    "- Samples with contours: 47589\n",
    "- Samples with tags: 50000\n",
    "\n",
    "Categories:\n",
    "\n",
    "- Category *48G* samples: 20019\n",
    "- Category *48X* samples: 7663\n",
    "- Category *48Y* samples: 7693\n",
    "- Category *bag/cement* samples: 3930\n",
    "- Category *bag/salt* samples: 4061\n",
    "- Category *bag/sand* samples: 4017\n",
    "- Category *banding* samples: 10851\n",
    "- Category *barrel/55G* samples: 25637\n",
    "- Category *block/cinder* samples: 3840\n",
    "- Category *block/generic* samples: 3966\n",
    "- Category *blocking/concrete* samples: 7834\n",
    "- Category *blocking/wood* samples: 8047\n",
    "- Category *box/cardboard* samples: 3955\n",
    "- Category *brick* samples: 3875\n",
    "- Category *crate/mil/large* samples: 3938\n",
    "- Category *crate/mil/long* samples: 4022\n",
    "- Category *crate/mil/medium* samples: 3947\n",
    "- Category *crate/mil/small* samples: 4067\n",
    "- Category *drywall* samples: 4038\n",
    "- Category *keg/30L* samples: 3893\n",
    "- Category *keg/50L* samples: 3950\n",
    "- Category *lumber/pine* samples: 3906\n",
    "- Category *mdf* samples: 3870\n",
    "- Category *paintbrush* samples: 10183\n",
    "- Category *paintcan/1G* samples: 16552\n",
    "- Category *pallet* samples: 25531\n",
    "- Category *steel/roll* samples: 3860\n",
    "- Category *synthetic* samples: 50000\n",
    "- Category *tank/gas/10kg* samples: 11103\n",
    "- Category *tank/gas/160L* samples: 7601\n",
    "- Category *tank/gas/20kg* samples: 11856\n",
    "- Category *tank/gas/30kg* samples: 7973\n",
    "- Category *tank/gas/6kg* samples: 14229\n",
    "- Category *tank/gas/8kg* samples: 7746\n",
    "- Category *tank/propane/500G* samples: 4063\n",
    "- Category *tank/water/IBC/275G* samples: 3938\n",
    "- Category *tank/water/plastic/1500L* samples: 4034\n",
    "- Category *tank/water/plastic/16G* samples: 3944\n"
   ]
  }
 ],
 "metadata": {
  "celltoolbar": "Raw Cell Format",
  "kernelspec": {
   "display_name": "Python 3 (ipykernel)",
   "language": "python",
   "name": "python3"
  },
  "language_info": {
   "codemirror_mode": {
    "name": "ipython",
    "version": 3
   },
   "file_extension": ".py",
   "mimetype": "text/x-python",
   "name": "python",
   "nbconvert_exporter": "python",
   "pygments_lexer": "ipython3",
   "version": "3.8.10"
  }
 },
 "nbformat": 4,
 "nbformat_minor": 5
}
