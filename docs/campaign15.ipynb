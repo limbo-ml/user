{
 "cells": [
  {
   "cell_type": "raw",
   "id": "5dc5e30f",
   "metadata": {
    "raw_mimetype": "text/restructuredtext"
   },
   "source": [
    ".. _campaign15:\n",
    "\n",
    "Campaign 15\n",
    "==========="
   ]
  },
  {
   "cell_type": "markdown",
   "id": "df9f08a2",
   "metadata": {},
   "source": [
    "**Description**\n",
    "\n",
    "This campaign features 360° views of cylinders from uniformly-distributed angles.  There are five variants of 30B cylinders and five variants of 48X, 48Y, and 48G cylinders for a total of ten cylinder types, and each type is displayed with concrete blocking, wood blocking, or no blocking, for a total of thirty cylinder configurations.  Each configuration is rendered from 2000 angles, with a randomly-chosen background for each.\n",
    "\n",
    "Historical note: trying to train models on *just* a synthetic subject viewed from many angles is what started us on this journey - if humans can do it, *we should be able to train machines to do it!*"
   ]
  },
  {
   "cell_type": "raw",
   "id": "a158725a",
   "metadata": {
    "raw_mimetype": "text/restructuredtext"
   },
   "source": [
    ".. image:: campaign15/5951.png\n",
    "   :height: 200px\n",
    "   :align: left\n",
    "\n",
    ".. image:: campaign15/50144.png\n",
    "   :height: 200px\n",
    "   :align: left\n",
    "   \n",
    ".. image:: campaign15/58888.png\n",
    "   :height: 200px\n",
    "   :align: left"
   ]
  },
  {
   "cell_type": "markdown",
   "id": "62e48d9e",
   "metadata": {},
   "source": [
    "**Statistics**\n",
    "\n",
    "Total samples: 60000.\n",
    "\n",
    "- Samples with provenance: 0\n",
    "- Samples with images: 60000\n",
    "- Samples with synthetic data: 60000\n",
    "- Samples with cryptomatte data: 60000\n",
    "- Samples with bounding-boxes: 60000\n",
    "- Samples with empty bounding-boxes: 0\n",
    "- Samples with contours: 60000\n",
    "- Samples with tags: 60000\n",
    "\n",
    "Categories:\n",
    "\n",
    "- Category *30B* samples: 30000\n",
    "- Category *48G* samples: 18000\n",
    "- Category *48X* samples: 6000\n",
    "- Category *48Y* samples: 6000\n",
    "- Category *blocking/concrete* samples: 19630\n",
    "- Category *blocking/wood* samples: 19807\n",
    "- Category *synthetic* samples: 60000\n",
    "\n"
   ]
  }
 ],
 "metadata": {
  "celltoolbar": "Raw Cell Format",
  "kernelspec": {
   "display_name": "Python 3 (ipykernel)",
   "language": "python",
   "name": "python3"
  },
  "language_info": {
   "codemirror_mode": {
    "name": "ipython",
    "version": 3
   },
   "file_extension": ".py",
   "mimetype": "text/x-python",
   "name": "python",
   "nbconvert_exporter": "python",
   "pygments_lexer": "ipython3",
   "version": "3.8.10"
  }
 },
 "nbformat": 4,
 "nbformat_minor": 5
}
