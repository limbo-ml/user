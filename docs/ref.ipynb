{
 "cells": [
  {
   "cell_type": "raw",
   "id": "5dc5e30f",
   "metadata": {
    "raw_mimetype": "text/restructuredtext"
   },
   "source": [
    ".. _ref:\n",
    "\n",
    "Reference Images\n",
    "================"
   ]
  },
  {
   "cell_type": "markdown",
   "id": "c40d1652",
   "metadata": {},
   "source": [
    "**Description**\n",
    "\n",
    "Real-world images and distractors for testing."
   ]
  },
  {
   "cell_type": "raw",
   "id": "ba0084ef",
   "metadata": {
    "raw_mimetype": "text/restructuredtext"
   },
   "source": [
    ".. image:: ref/14.png\n",
    "   :height: 125px\n",
    "   :align: left\n",
    "   \n",
    ".. image:: ref/95.jpeg\n",
    "   :height: 125px\n",
    "   :align: left\n",
    "   \n",
    ".. image:: ref/370.jpeg\n",
    "   :height: 125px\n",
    "   :align: left"
   ]
  },
  {
   "cell_type": "markdown",
   "id": "ae7b3990",
   "metadata": {},
   "source": [
    "**Statistics**\n",
    "\n",
    "Total samples: 482.\n",
    "\n",
    "- Samples with provenance: 482\n",
    "- Samples with images: 482\n",
    "- Samples with synthetic data: 0\n",
    "- Samples with cryptomatte data: 0\n",
    "- Samples with bounding-boxes: 137\n",
    "- Samples with empty bounding-boxes: 0\n",
    "- Samples with contours: 0\n",
    "- Samples with tags: 482\n",
    "\n",
    "Categories:\n",
    "\n",
    "- Category *30B* samples: 48\n",
    "- Category *30Boverpack* samples: 17\n",
    "- Category *48G* samples: 59\n",
    "- Category *48X* samples: 14\n",
    "- Category *48Y* samples: 31\n",
    "- Category *real* samples: 482\n",
    "\n",
    "Annotations:\n",
    "\n",
    "- Samples annotated *real*: 345\n",
    "- Samples annotated *48Y* + *real*: 22\n",
    "- Samples annotated *48X* + *real*: 10\n",
    "- Samples annotated *48G* + *real*: 43\n",
    "- Samples annotated *48G* + *48Y* + *real*: 5\n",
    "- Samples annotated *48G* + *48X* + *real*: 3\n",
    "- Samples annotated *30Boverpack* + *real*: 4\n",
    "- Samples annotated *30Boverpack* + *48G* + *48Y* + *real*: 1\n",
    "- Samples annotated *30Boverpack* + *48G* + *48X* + *48Y* + *real*: 1\n",
    "- Samples annotated *30B* + *real*: 31\n",
    "- Samples annotated *30B* + *48Y* + *real*: 1\n",
    "- Samples annotated *30B* + *48G* + *real*: 5\n",
    "- Samples annotated *30B* + *30Boverpack* + *real*: 9\n",
    "- Samples annotated *30B* + *30Boverpack* + *48Y* + *real*: 1\n",
    "- Samples annotated *30B* + *30Boverpack* + *48G* + *real*: 1\n",
    "\n",
    "**Category Definitions**\n",
    "\n",
    "- real: samples that are photographs taken from the real world.\n",
    "- 30B: type 30B cylinders.\n",
    "- 30Boverpack: overpacks for type 30B cylinders.\n",
    "- 48G: type 48G cylinders.\n",
    "- 48X: type 48X cylinders.\n",
    "- 48Y: type 48Y cylinders."
   ]
  }
 ],
 "metadata": {
  "celltoolbar": "Raw Cell Format",
  "kernelspec": {
   "display_name": "Python 3 (ipykernel)",
   "language": "python",
   "name": "python3"
  },
  "language_info": {
   "codemirror_mode": {
    "name": "ipython",
    "version": 3
   },
   "file_extension": ".py",
   "mimetype": "text/x-python",
   "name": "python",
   "nbconvert_exporter": "python",
   "pygments_lexer": "ipython3",
   "version": "3.8.10"
  }
 },
 "nbformat": 4,
 "nbformat_minor": 5
}
