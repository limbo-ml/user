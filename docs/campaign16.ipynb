{
 "cells": [
  {
   "cell_type": "raw",
   "id": "5dc5e30f",
   "metadata": {
    "raw_mimetype": "text/restructuredtext"
   },
   "source": [
    ".. _campaign16:\n",
    "\n",
    "Campaign 16\n",
    "==========="
   ]
  },
  {
   "cell_type": "markdown",
   "id": "df9f08a2",
   "metadata": {},
   "source": [
    "**Description**\n",
    "\n",
    "This campaign features 30B cylinders and distractors, randomly scattered in a completely synthetic industrial environment.  Unlike campaigns 2-15, the backgrounds in these images are not photographs; this means that this data contains no perspective or scale artifacts."
   ]
  },
  {
   "cell_type": "raw",
   "id": "a158725a",
   "metadata": {
    "raw_mimetype": "text/restructuredtext"
   },
   "source": [
    ".. image:: campaign16/3289.png\n",
    "   :height: 200px\n",
    "   :align: left\n",
    "\n",
    ".. image:: campaign16/39828.png\n",
    "   :height: 200px\n",
    "   :align: left\n",
    "   \n",
    ".. image:: campaign16/42104.png\n",
    "   :height: 200px\n",
    "   :align: left"
   ]
  },
  {
   "cell_type": "markdown",
   "id": "62e48d9e",
   "metadata": {},
   "source": [
    "**Statistics**\n",
    "\n",
    "Total samples: 49995.\n",
    "\n",
    "- Samples with provenance: 0\n",
    "- Samples with images: 49995\n",
    "- Samples with synthetic data: 49995\n",
    "- Samples with cryptomatte data: 49995\n",
    "- Samples with bounding-boxes: 47506\n",
    "- Samples with empty bounding-boxes: 0\n",
    "- Samples with contours: 47506\n",
    "- Samples with tags: 49995\n",
    "\n",
    "Categories:\n",
    "\n",
    "- Category *30B* samples: 28474\n",
    "- Category *bag/cement* samples: 3948\n",
    "- Category *bag/salt* samples: 4035\n",
    "- Category *bag/sand* samples: 3978\n",
    "- Category *banding* samples: 10889\n",
    "- Category *barrel/55G* samples: 25689\n",
    "- Category *block/cinder* samples: 3866\n",
    "- Category *block/generic* samples: 3984\n",
    "- Category *blocking/concrete* samples: 8445\n",
    "- Category *blocking/wood* samples: 9374\n",
    "- Category *box/cardboard* samples: 3918\n",
    "- Category *brick* samples: 3892\n",
    "- Category *crate/mil/large* samples: 3892\n",
    "- Category *crate/mil/long* samples: 3922\n",
    "- Category *crate/mil/medium* samples: 3937\n",
    "- Category *crate/mil/small* samples: 4065\n",
    "- Category *drywall* samples: 4149\n",
    "- Category *keg/30L* samples: 3877\n",
    "- Category *keg/50L* samples: 3939\n",
    "- Category *lumber/pine* samples: 4053\n",
    "- Category *mdf* samples: 4085\n",
    "- Category *paintbrush* samples: 10266\n",
    "- Category *paintcan/1G* samples: 16657\n",
    "- Category *pallet* samples: 25345\n",
    "- Category *steel/roll* samples: 3894\n",
    "- Category *synthetic* samples: 49995\n",
    "- Category *tank/gas/10kg* samples: 11206\n",
    "- Category *tank/gas/160L* samples: 7617\n",
    "- Category *tank/gas/20kg* samples: 11871\n",
    "- Category *tank/gas/30kg* samples: 7985\n",
    "- Category *tank/gas/6kg* samples: 14283\n",
    "- Category *tank/gas/8kg* samples: 7823\n",
    "- Category *tank/propane/500G* samples: 4123\n",
    "- Category *tank/water/IBC/275G* samples: 3946\n",
    "- Category *tank/water/plastic/1500L* samples: 4052\n",
    "- Category *tank/water/plastic/16G* samples: 3964\n",
    "\n"
   ]
  }
 ],
 "metadata": {
  "celltoolbar": "Raw Cell Format",
  "kernelspec": {
   "display_name": "Python 3 (ipykernel)",
   "language": "python",
   "name": "python3"
  },
  "language_info": {
   "codemirror_mode": {
    "name": "ipython",
    "version": 3
   },
   "file_extension": ".py",
   "mimetype": "text/x-python",
   "name": "python",
   "nbconvert_exporter": "python",
   "pygments_lexer": "ipython3",
   "version": "3.8.10"
  }
 },
 "nbformat": 4,
 "nbformat_minor": 5
}
