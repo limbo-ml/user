{
 "cells": [
  {
   "cell_type": "raw",
   "id": "5dc5e30f",
   "metadata": {
    "raw_mimetype": "text/restructuredtext"
   },
   "source": [
    ".. _campaign5:\n",
    "\n",
    "Campaign 5\n",
    "=========="
   ]
  },
  {
   "cell_type": "markdown",
   "id": "c48ea36c",
   "metadata": {},
   "source": [
    "**Description**\n",
    "\n",
    "Rows of type 30B cylinders, stacked one-high"
   ]
  },
  {
   "cell_type": "raw",
   "id": "0f83dcbd",
   "metadata": {
    "raw_mimetype": "text/restructuredtext"
   },
   "source": [
    ".. image:: campaign5/2764.png\n",
    "   :height: 200px\n",
    "   :align: left\n",
    "   \n",
    ".. image:: campaign5/23957.png\n",
    "   :height: 200px\n",
    "   :align: left\n",
    "   \n",
    ".. image:: campaign5/39948.png\n",
    "   :height: 200px\n",
    "   :align: left"
   ]
  },
  {
   "cell_type": "markdown",
   "id": "ae7b3990",
   "metadata": {},
   "source": [
    "**Statistics**\n",
    "\n",
    "Total samples: 55000.\n",
    "\n",
    "- Samples with provenance: 0\n",
    "- Samples with images: 55000\n",
    "- Samples with synthetic data: 55000\n",
    "- Samples with cryptomatte data: 50000\n",
    "- Samples with bounding-boxes: 49765\n",
    "- Samples with contours: 49765\n",
    "- Samples with tags: 55000\n",
    "\n",
    "Categories:\n",
    "\n",
    "- Category *30* samples: 49765\n",
    "- Category *background* samples: 5000\n",
    "- Category *synthetic* samples: 55000\n",
    "\n",
    "Annotations:\n",
    "\n",
    "- Samples annotated *synthetic*: 235\n",
    "- Samples annotated *background* + *synthetic*: 5000\n",
    "- Samples annotated *30* + *synthetic*: 49765\n",
    "\n",
    "**Category Definitions**\n",
    "\n",
    "- 30: type 30B containers.  Note that *30* was an unfortunate typo, we use *30B* elsewhere.  Apologies for the confusion.\n",
    "- background: samples that intentionally contain only background, without any cylinders.\n",
    "- synthetic: samples generated using our synthetic workflow.\n",
    "\n",
    "**Notes**\n",
    "\n",
    "There is a fairly wide range of distances from camera to cylinder, so that they do not tend to fill the frame.\n",
    "\n",
    "Backgrounds and non-backgrounds are aligned: for all $n$ where $n \\bmod 10 = 0$, each sample image_$n$ with a cylinder has a matching sample background_$n$ without a cylinder.\n",
    "\n",
    "**Questions**\n",
    "\n",
    "<dl>\n",
    "  <dt>What are the 235 samples tagged \"synthetic\"?</dt>\n",
    "  <dd>Those are scenes which contained a type 30 cylinder which would otherwise be tagged \"30 + synthetic\", except that the cylinder was unintentionally off camera.  So the labelling is accurate.</dd>\n",
    "</dl>"
   ]
  }
 ],
 "metadata": {
  "celltoolbar": "Raw Cell Format",
  "kernelspec": {
   "display_name": "Python 3 (ipykernel)",
   "language": "python",
   "name": "python3"
  },
  "language_info": {
   "codemirror_mode": {
    "name": "ipython",
    "version": 3
   },
   "file_extension": ".py",
   "mimetype": "text/x-python",
   "name": "python",
   "nbconvert_exporter": "python",
   "pygments_lexer": "ipython3",
   "version": "3.8.10"
  }
 },
 "nbformat": 4,
 "nbformat_minor": 5
}
