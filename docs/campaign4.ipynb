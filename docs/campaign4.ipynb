{
 "cells": [
  {
   "cell_type": "raw",
   "id": "5dc5e30f",
   "metadata": {
    "raw_mimetype": "text/restructuredtext"
   },
   "source": [
    ".. _campaign4:\n",
    "\n",
    "Campaign 4\n",
    "=========="
   ]
  },
  {
   "cell_type": "markdown",
   "id": "5afd283b",
   "metadata": {},
   "source": [
    "**Description**\n",
    "\n",
    "Rows of type 48 cylinders, stacked one-high"
   ]
  },
  {
   "cell_type": "raw",
   "id": "f45468b5",
   "metadata": {
    "raw_mimetype": "text/restructuredtext"
   },
   "source": [
    ".. image:: campaign4/8151.png\n",
    "   :height: 200px\n",
    "   :align: left\n",
    "   \n",
    ".. image:: campaign4/24346.png\n",
    "   :height: 200px\n",
    "   :align: left\n",
    "   \n",
    ".. image:: campaign4/43653.png\n",
    "   :height: 200px\n",
    "   :align: left"
   ]
  },
  {
   "cell_type": "markdown",
   "id": "ae7b3990",
   "metadata": {},
   "source": [
    "**Statistics**\n",
    "\n",
    "Total samples: 55018.\n",
    "\n",
    "- Samples with provenance: 0\n",
    "- Samples with images: 55018\n",
    "- Samples with synthetic data: 55018\n",
    "- Samples with cryptomatte data: 50000\n",
    "- Samples with bounding-boxes: 49867\n",
    "- Samples with contours: 49867\n",
    "- Samples with tags: 55018\n",
    "\n",
    "Categories:\n",
    "\n",
    "- Category *48* samples: 49867\n",
    "- Category *background* samples: 5018\n",
    "- Category *synthetic* samples: 55018\n",
    "\n",
    "Annotations:\n",
    "\n",
    "- Samples annotated *synthetic*: 133\n",
    "- Samples annotated *background* + *synthetic*: 5018\n",
    "- Samples annotated *48* + *synthetic*: 49867\n",
    "\n",
    "**Category Definitions**\n",
    "\n",
    "- 48: type 48 containers, including 48G, 48X, and 48Y.  Note that in later campaigns we explicitly distinguish among the three types.\n",
    "- background: samples that intentionally contain only background, without any cylinders.\n",
    "- synthetic: samples generated using our synthetic workflow.\n",
    "\n",
    "**Notes**\n",
    "\n",
    "There is a fairly wide range of distances from camera to cylinder, so that they do not tend to fill the frame.\n",
    "\n",
    "Backgrounds and non-backgrounds are aligned: for all $n$ where $n \\bmod 10 = 0$, each sample image_$n$ with a cylinder has a matching sample background_$n$ without a cylinder.\n",
    "\n",
    "**Questions**\n",
    "\n",
    "<dl>\n",
    "  <dt>Why are there 55018 background samples, instead of 55000?</dt>\n",
    "  <dd>We accidentally created a few extra background samples, and saw no reason to discard them.</dd>\n",
    "\n",
    "  <dt>What are the 133 samples tagged \"synthetic\"?</dt>\n",
    "  <dd>Those are scenes which contained a type 48 cylinder which would otherwise be tagged \"48 + synthetic\", except that the cylinder was unintentionally off camera.  So the labelling is accurate.</dd>\n",
    "</dl>"
   ]
  }
 ],
 "metadata": {
  "celltoolbar": "Raw Cell Format",
  "kernelspec": {
   "display_name": "Python 3 (ipykernel)",
   "language": "python",
   "name": "python3"
  },
  "language_info": {
   "codemirror_mode": {
    "name": "ipython",
    "version": 3
   },
   "file_extension": ".py",
   "mimetype": "text/x-python",
   "name": "python",
   "nbconvert_exporter": "python",
   "pygments_lexer": "ipython3",
   "version": "3.8.10"
  }
 },
 "nbformat": 4,
 "nbformat_minor": 5
}
