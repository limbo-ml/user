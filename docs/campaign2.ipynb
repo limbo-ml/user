{
 "cells": [
  {
   "cell_type": "raw",
   "id": "5dc5e30f",
   "metadata": {
    "raw_mimetype": "text/restructuredtext"
   },
   "source": [
    ".. _campaign2:\n",
    "\n",
    "Campaign 2\n",
    "=========="
   ]
  },
  {
   "cell_type": "markdown",
   "id": "a1567323",
   "metadata": {},
   "source": [
    "**Description**\n",
    "\n",
    "Individual type 30B cylinders:"
   ]
  },
  {
   "cell_type": "raw",
   "id": "bfade524",
   "metadata": {
    "raw_mimetype": "text/restructuredtext"
   },
   "source": [
    ".. image:: campaign2/8342.png\n",
    "   :height: 200px\n",
    "   :align: left\n",
    "   \n",
    ".. image:: campaign2/21967.png\n",
    "   :height: 200px\n",
    "   :align: left\n",
    "   \n",
    ".. image:: campaign2/49792.png\n",
    "   :height: 200px\n",
    "   :align: left\n",
    "      "
   ]
  },
  {
   "cell_type": "markdown",
   "id": "ae7b3990",
   "metadata": {},
   "source": [
    "**Statistics**\n",
    "\n",
    "Total samples: 54999.\n",
    "\n",
    "- Samples with provenance: 0\n",
    "- Samples with images: 54999\n",
    "- Samples with synthetic data: 54999\n",
    "- Samples with cryptomatte data: 49999\n",
    "- Samples with bounding-boxes: 49067\n",
    "- Samples with contours: 49067\n",
    "- Samples with tags: 54999\n",
    "\n",
    "Categories:\n",
    "\n",
    "- Category *30B* samples: 49067\n",
    "- Category *background* samples: 5000\n",
    "- Category *synthetic* samples: 54999\n",
    "\n",
    "Annotations:\n",
    "\n",
    "- Samples annotated *synthetic*: 932\n",
    "- Samples annotated *background* + *synthetic*: 5000\n",
    "- Samples annotated *30B* + *synthetic*: 49067\n",
    "\n",
    "**Category Definitions**\n",
    "\n",
    "- 30B: type 30B cylinders.\n",
    "- background: samples that intentionally contain only background, without any cylinders.\n",
    "- synthetic: samples generated using our synthetic workflow.\n",
    "\n",
    "**Notes**\n",
    "\n",
    "There is a fairly wide range of distances from camera to cylinder, so that they do not tend to fill the frame.\n",
    "\n",
    "Backgrounds and non-backgrounds are aligned: for all $n$ where $n \\bmod 10 = 0$, each sample image_$n$ with a cylinder has a matching sample background_$n$ without a cylinder.\n",
    "\n",
    "**Questions**\n",
    "\n",
    "<dl>\n",
    "  <dt>What happened to Campaign 1?</dt>\n",
    "  <dd>Campaign 1 was for development and debugging of our synthetic workflow.</dd>\n",
    "    \n",
    "  <dt>Why are there 54999 samples, instead of 55000?</dt>\n",
    "  <dd>We discovered that one output sample had garbled cryptomatte data, so we deleted it.</dd>\n",
    "\n",
    "  <dt>Why are there 932 samples without a container that are tagged \"synthetic\" but not \"background\"?</dt>\n",
    "  <dd>Those are scenes which contained a type 30B cylinder which would otherwise be tagged \"30B + synthetic\", except that randomly-chosen camera angle put the cylinder off-screen.  So the labelling is accurate.</dd>\n",
    "</dl>"
   ]
  }
 ],
 "metadata": {
  "celltoolbar": "Raw Cell Format",
  "kernelspec": {
   "display_name": "Python 3 (ipykernel)",
   "language": "python",
   "name": "python3"
  },
  "language_info": {
   "codemirror_mode": {
    "name": "ipython",
    "version": 3
   },
   "file_extension": ".py",
   "mimetype": "text/x-python",
   "name": "python",
   "nbconvert_exporter": "python",
   "pygments_lexer": "ipython3",
   "version": "3.8.10"
  }
 },
 "nbformat": 4,
 "nbformat_minor": 5
}
