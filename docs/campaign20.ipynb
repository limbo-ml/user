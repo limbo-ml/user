{
 "cells": [
  {
   "cell_type": "raw",
   "id": "5dc5e30f",
   "metadata": {
    "raw_mimetype": "text/restructuredtext"
   },
   "source": [
    ".. _campaign20:\n",
    "\n",
    "Campaign 20\n",
    "==========="
   ]
  },
  {
   "cell_type": "markdown",
   "id": "df9f08a2",
   "metadata": {},
   "source": [
    "**Description**\n",
    "\n",
    "This campaign features 30B *and* type 48 cylinders and distractors, randomly scattered in a completely synthetic industrial environment.  Notably, the samples in this campaign are *not* random - instead, they are drawn from an animated tour of the facility (over 40 minutes of video!) from the viewpoint of a small quadcopter drone.  Unlike campaigns 2-15, the backgrounds in these images are not photographs; this means that this data contains no perspective or scale artifacts.  Note that many images are blurred by the movement of the drone (as they would be in real life), and that this is reflected in the segmentation masks, contours, and bounding boxes."
   ]
  },
  {
   "cell_type": "raw",
   "id": "a158725a",
   "metadata": {
    "raw_mimetype": "text/restructuredtext"
   },
   "source": [
    ".. image:: campaign20/0.png\n",
    "   :height: 200px\n",
    "   :align: left\n",
    "\n",
    ".. image:: campaign20/13905.png\n",
    "   :height: 200px\n",
    "   :align: left\n",
    "   \n",
    ".. image:: campaign20/57469.png\n",
    "   :height: 200px\n",
    "   :align: left"
   ]
  },
  {
   "cell_type": "markdown",
   "id": "62e48d9e",
   "metadata": {},
   "source": [
    "**Statistics**\n",
    "\n",
    "Total samples: 72000.\n",
    "\n",
    "- Samples with provenance: 0\n",
    "- Samples with images: 72000\n",
    "- Samples with synthetic data: 72000\n",
    "- Samples with cryptomatte data: 72000\n",
    "- Samples with bounding-boxes: 69884\n",
    "- Samples with empty bounding-boxes: 0\n",
    "- Samples with contours: 69884\n",
    "- Samples with tags: 72000\n",
    "\n",
    "Categories:\n",
    "\n",
    "- Category *30B* samples: 47684\n",
    "- Category *48G* samples: 42576\n",
    "- Category *48X* samples: 45189\n",
    "- Category *48Y* samples: 40732\n",
    "- Category *bag/salt* samples: 9711\n",
    "- Category *bag/sand* samples: 17611\n",
    "- Category *banding* samples: 1895\n",
    "- Category *barrel/55G* samples: 44572\n",
    "- Category *barrel/wine* samples: 24415\n",
    "- Category *barrel/wine/blocking* samples: 15821\n",
    "- Category *block/generic* samples: 2222\n",
    "- Category *blocking/concrete* samples: 42943\n",
    "- Category *blocking/wood* samples: 42127\n",
    "- Category *crate/mil/large* samples: 8895\n",
    "- Category *crate/mil/long* samples: 7328\n",
    "- Category *crate/mil/medium* samples: 11407\n",
    "- Category *crate/mil/small* samples: 12486\n",
    "- Category *drywall* samples: 22552\n",
    "- Category *keg/30L* samples: 9192\n",
    "- Category *keg/50L* samples: 12709\n",
    "- Category *lumber/pine* samples: 32166\n",
    "- Category *mdf* samples: 16527\n",
    "- Category *paintbrush* samples: 7824\n",
    "- Category *paintcan/1G* samples: 17647\n",
    "- Category *pallet* samples: 14918\n",
    "- Category *synthetic* samples: 72000\n",
    "- Category *tank/gas/10kg* samples: 19015\n",
    "- Category *tank/gas/160L* samples: 25954\n",
    "- Category *tank/gas/20kg* samples: 18343\n",
    "- Category *tank/gas/30kg* samples: 19521\n",
    "- Category *tank/gas/6kg* samples: 19282\n",
    "- Category *tank/gas/8kg* samples: 20788\n",
    "- Category *tank/propane/500G* samples: 31675\n",
    "- Category *tank/water/IBC/275G* samples: 13417\n",
    "- Category *tank/water/plastic/1500L* samples: 4435\n",
    "- Category *tank/water/plastic/16G* samples: 17465\n",
    "\n"
   ]
  }
 ],
 "metadata": {
  "celltoolbar": "Raw Cell Format",
  "kernelspec": {
   "display_name": "Python 3 (ipykernel)",
   "language": "python",
   "name": "python3"
  },
  "language_info": {
   "codemirror_mode": {
    "name": "ipython",
    "version": 3
   },
   "file_extension": ".py",
   "mimetype": "text/x-python",
   "name": "python",
   "nbconvert_exporter": "python",
   "pygments_lexer": "ipython3",
   "version": "3.8.10"
  }
 },
 "nbformat": 4,
 "nbformat_minor": 5
}
