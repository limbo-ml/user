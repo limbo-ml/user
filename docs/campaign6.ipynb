{
 "cells": [
  {
   "cell_type": "raw",
   "id": "5dc5e30f",
   "metadata": {
    "raw_mimetype": "text/restructuredtext"
   },
   "source": [
    ".. _campaign6:\n",
    "\n",
    "Campaign 6\n",
    "=========="
   ]
  },
  {
   "cell_type": "markdown",
   "id": "9268b30e",
   "metadata": {},
   "source": [
    "**Description**\n",
    "\n",
    "Empty, background-only images."
   ]
  },
  {
   "cell_type": "raw",
   "id": "717bb19e",
   "metadata": {
    "raw_mimetype": "text/restructuredtext"
   },
   "source": [
    ".. image:: campaign6/14011.png\n",
    "   :height: 200px\n",
    "   :align: left\n",
    "\n",
    ".. image:: campaign6/42577.png\n",
    "   :height: 200px\n",
    "   :align: left\n",
    "\n",
    ".. image:: campaign6/49623.png\n",
    "   :height: 200px\n",
    "   :align: left"
   ]
  },
  {
   "cell_type": "markdown",
   "id": "ae7b3990",
   "metadata": {},
   "source": [
    "**Statistics**\n",
    "\n",
    "Total samples: 50000.\n",
    "\n",
    "- Samples with provenance: 0\n",
    "- Samples with images: 50000\n",
    "- Samples with synthetic data: 50000\n",
    "- Samples with cryptomatte data: 0\n",
    "- Samples with bounding-boxes: 0\n",
    "- Samples with contours: 0\n",
    "- Samples with tags: 50000\n",
    "\n",
    "Categories:\n",
    "\n",
    "- Category *background* samples: 50000\n",
    "- Category *synthetic* samples: 50000\n",
    "\n",
    "Annotations:\n",
    "\n",
    "- Samples annotated *background* + *synthetic*: 50000\n",
    "\n",
    "**Category Definitions**\n",
    "\n",
    "- background: samples that intentionally contain only background, without any cylinders.\n",
    "- synthetic: samples generated using our synthetic workflow.\n",
    "\n",
    "**Notes**\n",
    "\n",
    "These backgrounds are *not* aligned with any of the images in the other campaigns."
   ]
  }
 ],
 "metadata": {
  "celltoolbar": "Raw Cell Format",
  "kernelspec": {
   "display_name": "Python 3 (ipykernel)",
   "language": "python",
   "name": "python3"
  },
  "language_info": {
   "codemirror_mode": {
    "name": "ipython",
    "version": 3
   },
   "file_extension": ".py",
   "mimetype": "text/x-python",
   "name": "python",
   "nbconvert_exporter": "python",
   "pygments_lexer": "ipython3",
   "version": "3.8.10"
  }
 },
 "nbformat": 4,
 "nbformat_minor": 5
}
