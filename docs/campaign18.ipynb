{
 "cells": [
  {
   "cell_type": "raw",
   "id": "5dc5e30f",
   "metadata": {
    "raw_mimetype": "text/restructuredtext"
   },
   "source": [
    ".. _campaign18:\n",
    "\n",
    "Campaign 18\n",
    "==========="
   ]
  },
  {
   "cell_type": "markdown",
   "id": "df9f08a2",
   "metadata": {},
   "source": [
    "**Description**\n",
    "\n",
    "This campaign features 30B cylinders, distractors, and people, randomly scattered in a completely synthetic industrial environment.  Unlike campaigns 2-15, the backgrounds in these images are not photographs; this means that this data contains no perspective or scale artifacts."
   ]
  },
  {
   "cell_type": "raw",
   "id": "a158725a",
   "metadata": {
    "raw_mimetype": "text/restructuredtext"
   },
   "source": [
    ".. image:: campaign18/1796.png\n",
    "   :height: 200px\n",
    "   :align: left\n",
    "\n",
    ".. image:: campaign18/36936.png\n",
    "   :height: 200px\n",
    "   :align: left\n",
    "   \n",
    ".. image:: campaign18/43016.png\n",
    "   :height: 200px\n",
    "   :align: left"
   ]
  },
  {
   "cell_type": "markdown",
   "id": "62e48d9e",
   "metadata": {},
   "source": [
    "**Statistics**\n",
    "\n",
    "Total samples: 50000.\n",
    "\n",
    "- Samples with provenance: 0\n",
    "- Samples with images: 50000\n",
    "- Samples with synthetic data: 50000\n",
    "- Samples with cryptomatte data: 50000\n",
    "- Samples with bounding-boxes: 46827\n",
    "- Samples with empty bounding-boxes: 0\n",
    "- Samples with contours: 46827\n",
    "- Samples with tags: 50000\n",
    "\n",
    "Categories:\n",
    "\n",
    "- Category *30B* samples: 35125\n",
    "- Category *bag/cement* samples: 3458\n",
    "- Category *bag/salt* samples: 3967\n",
    "- Category *bag/sand* samples: 10882\n",
    "- Category *banding* samples: 17940\n",
    "- Category *barrel/55G* samples: 27593\n",
    "- Category *barrel/wine* samples: 21916\n",
    "- Category *barrel/wine/blocking* samples: 21159\n",
    "- Category *block/cinder* samples: 4278\n",
    "- Category *block/generic* samples: 5590\n",
    "- Category *blocking/concrete* samples: 14655\n",
    "- Category *blocking/wood* samples: 20509\n",
    "- Category *box/cardboard* samples: 3125\n",
    "- Category *brick* samples: 3034\n",
    "- Category *crate/mil/large* samples: 1961\n",
    "- Category *crate/mil/long* samples: 2413\n",
    "- Category *crate/mil/medium* samples: 2287\n",
    "- Category *crate/mil/small* samples: 3477\n",
    "- Category *drywall* samples: 3402\n",
    "- Category *keg/30L* samples: 2802\n",
    "- Category *keg/50L* samples: 2982\n",
    "- Category *lumber/pine* samples: 3835\n",
    "- Category *mdf* samples: 3750\n",
    "- Category *paintbrush* samples: 13315\n",
    "- Category *paintcan/1G* samples: 18682\n",
    "- Category *pallet* samples: 27970\n",
    "- Category *person* samples: 38199\n",
    "- Category *steel/roll* samples: 3297\n",
    "- Category *synthetic* samples: 50000\n",
    "- Category *tank/gas/10kg* samples: 8821\n",
    "- Category *tank/gas/160L* samples: 5734\n",
    "- Category *tank/gas/20kg* samples: 9889\n",
    "- Category *tank/gas/30kg* samples: 6280\n",
    "- Category *tank/gas/6kg* samples: 11199\n",
    "- Category *tank/gas/8kg* samples: 6235\n",
    "- Category *tank/propane/500G* samples: 3648\n",
    "- Category *tank/water/IBC/275G* samples: 2228\n",
    "- Category *tank/water/plastic/1500L* samples: 1894\n",
    "- Category *tank/water/plastic/16G* samples: 3010\n"
   ]
  }
 ],
 "metadata": {
  "celltoolbar": "Raw Cell Format",
  "kernelspec": {
   "display_name": "Python 3 (ipykernel)",
   "language": "python",
   "name": "python3"
  },
  "language_info": {
   "codemirror_mode": {
    "name": "ipython",
    "version": 3
   },
   "file_extension": ".py",
   "mimetype": "text/x-python",
   "name": "python",
   "nbconvert_exporter": "python",
   "pygments_lexer": "ipython3",
   "version": "3.8.10"
  }
 },
 "nbformat": 4,
 "nbformat_minor": 5
}
