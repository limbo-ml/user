{
 "cells": [
  {
   "cell_type": "code",
   "execution_count": 1,
   "metadata": {},
   "outputs": [],
   "source": [
    "import logging\n",
    "\n",
    "import imagecat.notebook\n",
    "\n",
    "import limbo.data\n",
    "\n",
    "logging.basicConfig(level=logging.WARN)"
   ]
  },
  {
   "cell_type": "code",
   "execution_count": 2,
   "metadata": {},
   "outputs": [
    {
     "name": "stdout",
     "output_type": "stream",
     "text": [
      "image_0000000\n",
      "image_0000025\n",
      "image_0001785\n"
     ]
    }
   ],
   "source": [
    "dataset = limbo.data.Dataset(\"../docs/data\")\n",
    "for sample in dataset:\n",
    "    if sample.synthetic:\n",
    "        print(sample.name)\n",
    "        sample.synthetic.materialize_image()"
   ]
  },
  {
   "cell_type": "code",
   "execution_count": 3,
   "metadata": {},
   "outputs": [
    {
     "data": {
      "application/vnd.jupyter.widget-view+json": {
       "model_id": "2073dca251214bad8d78a7abc33ee5f0",
       "version_major": 2,
       "version_minor": 0
      },
      "text/plain": [
       "Accordion(children=(HTML(value=''), HTML(value='')), _titles={'0': 'Layer: C', '1': 'Layer: A'})"
      ]
     },
     "metadata": {},
     "output_type": "display_data"
    }
   ],
   "source": [
    "imagecat.notebook.display(sample.image)"
   ]
  },
  {
   "cell_type": "code",
   "execution_count": 4,
   "metadata": {},
   "outputs": [
    {
     "data": {
      "text/plain": [
       "{'annotations': [{'bbox': [292.8187255859375,\n",
       "    378.603759765625,\n",
       "    414.91790771484375,\n",
       "    294.28094482421875],\n",
       "   'bbox_mode': 'XYWH_ABS',\n",
       "   'category': '30B'},\n",
       "  {'category': 'real'},\n",
       "  {'category': '30'}],\n",
       " 'image': {'content-type': 'image/png',\n",
       "  'filename': 'image_0014.png',\n",
       "  'res': [1201, 804]},\n",
       " 'provenance': {'copyright': 'Katy Laffan / IAEA, 2019',\n",
       "  'license': 'Some rights reserved, Attribution 2.0 Generic (CC BY 2.0)',\n",
       "  'uri': 'https://www.flickr.com/photos/iaea_imagebank/49397817493/in/photolist-2ig7J9v-xgT4rJ-4FvLiE-7vnLKM'}}"
      ]
     },
     "execution_count": 4,
     "metadata": {},
     "output_type": "execute_result"
    }
   ],
   "source": [
    "sample.metadata"
   ]
  }
 ],
 "metadata": {
  "kernelspec": {
   "display_name": "Python 3 (ipykernel)",
   "language": "python",
   "name": "python3"
  },
  "language_info": {
   "codemirror_mode": {
    "name": "ipython",
    "version": 3
   },
   "file_extension": ".py",
   "mimetype": "text/x-python",
   "name": "python",
   "nbconvert_exporter": "python",
   "pygments_lexer": "ipython3",
   "version": "3.8.10"
  }
 },
 "nbformat": 4,
 "nbformat_minor": 4
}
